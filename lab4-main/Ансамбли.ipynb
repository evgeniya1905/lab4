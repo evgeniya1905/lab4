{
 "cells": [
  {
   "cell_type": "markdown",
   "id": "3085ec43-34bb-4afb-9515-517e0489db3e",
   "metadata": {},
   "source": [
    "## Ансамбли и полносвязные нейронные сети\n",
    "В этом ноутбуке вам нужно обучить модели на датасете классификации из предыдущего ноутбука и сравнить результаты. Вам будет предоставлен baseline, на основе которого вы будете доделывать предсказывающие модели. Оценка лабы будет зависеть от ROC-AUC на тестовых данных по следующим критериям:\n",
    "\\\n",
    "AUC - на тестовых данных\n",
    "- $AUC \\leq 0.76$ - 0 баллов\n",
    "- $0.76 < AUC \\leq 0.77$ - 2 балла\n",
    "- $0.77 < AUC \\leq 0.78$ - 4 балла\n",
    "- $0.78 < AUC \\leq 0.79$ - 6 баллов\n",
    "- $0.79 < AUC \\leq 0.80$ - 8 баллов\n",
    "- $AUC > 0.80$ - 10 баллов\n"
   ]
  },
  {
   "cell_type": "code",
   "execution_count": null,
   "id": "ec07e3a2-480a-4350-868e-02679ff2aada",
   "metadata": {
    "tags": []
   },
   "outputs": [],
   "source": [
    "from sklearn.ensemble import RandomForestClassifier, GradientBoostingClassifier\n",
    "from sklearn.neural_network import MLPClassifier\n",
    "\n",
    "from sklearn.metrics import roc_auc_score, precision_score, recall_score, roc_curve, accuracy_score\n",
    "\n",
    "from sklearn.model_selection import train_test_split, GridSearchCV\n",
    "\n",
    "import matplotlib.pyplot as plt\n",
    "import pandas as pd\n",
    "import numpy as np"
   ]
  },
  {
   "cell_type": "code",
   "execution_count": null,
   "id": "563ad31b-5c83-4366-819a-34dad4edecdc",
   "metadata": {
    "tags": []
   },
   "outputs": [],
   "source": [
    "data = pd.read_csv('german.csv', sep=';')\n",
    "print(data.head())\n",
    "\n",
    "y = data[\"Creditability\"]\n",
    "X = data.drop(columns = ['Creditability'])\n",
    "\n",
    "\n",
    "X_train, X_test, y_train, y_test = train_test_split(X, y, test_size=0.2, random_state=42)"
   ]
  },
  {
   "cell_type": "markdown",
   "id": "6250211e",
   "metadata": {},
   "source": [
    "   Creditability  Account_Balance  Duration_of_Credit_monthly  \\\n",
    "0              1                1                          18   \n",
    "1              1                1                           9   \n",
    "2              1                2                          12   \n",
    "3              1                1                          12   \n",
    "4              1                1                          12   \n",
    "\n",
    "   Payment_Status_of_Previous_Credit  Purpose  Credit_Amount  \\\n",
    "0                                  4        2           1049   \n",
    "1                                  4        0           2799   \n",
    "2                                  2        9            841   \n",
    "3                                  4        0           2122   \n",
    "4                                  4        0           2171   \n",
    "\n",
    "   Value_Savings_Stocks  Length_of_current_employment  Instalment_per_cent  \\\n",
    "0                     1                             2                    4   \n",
    "1                     1                             3                    2   \n",
    "2                     2                             4                    2   \n",
    "3                     1                             3                    3   \n",
    "4                     1                             3                    4   \n",
    "\n",
    "   Sex_Marital_Status  ...  Duration_in_Current_address  \\\n",
    "0                   2  ...                            4   \n",
    "1                   3  ...                            2   \n",
    "2                   2  ...                            4   \n",
    "3                   3  ...                            2   \n",
    "4                   3  ...                            4   \n",
    "\n",
    "   Most_valuable_available_asset  Age_years  Concurrent_Credits  \\\n",
    "0                              2         21                   3   \n",
    "1                              1         36                   3   \n",
    "2                              1         23                   3   \n",
    "3                              1         39                   3   \n",
    "4                              2         38                   1   \n",
    "\n",
    "   Type_of_apartment  No_of_Credits_at_this_Bank  Occupation  \\\n",
    "0                  1                           1           3   \n",
    "1                  1                           2           3   \n",
    "2                  1                           1           2   \n",
    "3                  1                           2           2   \n",
    "4                  2                           2           2   \n",
    "\n",
    "   No_of_dependents  Telephone  Foreign_Worker  \n",
    "0                 1          1               1  \n",
    "1                 2          1               1  \n",
    "2                 1          1               1  \n",
    "3                 2          1               2  \n",
    "4                 1          1               2  \n",
    "\n",
    "[5 rows x 21 columns]"
   ]
  },
  {
   "cell_type": "code",
   "execution_count": null,
   "id": "f93737ec-e5eb-4d72-8beb-5dba4d4c581f",
   "metadata": {
    "tags": []
   },
   "outputs": [],
   "source": [
    "plt.hist(y_train, bins=2, edgecolor='k')\n",
    "plt.xticks([0, 1])\n",
    "plt.xlabel('Class (0: Non-Creditworthy, 1: Creditworthy)')\n",
    "plt.ylabel('Count')\n",
    "plt.title('Distribution of Classes in Training Data')\n",
    "plt.show()"
   ]
  },
  {
   "cell_type": "markdown",
   "id": "79e50fd5",
   "metadata": {},
   "source": [
    "График находится в папке с проектом qwer.png"
   ]
  },
  {
   "cell_type": "code",
   "execution_count": null,
   "id": "c1cf8d00-92a3-4b62-bca4-d854b72574d1",
   "metadata": {
    "tags": []
   },
   "outputs": [],
   "source": [
    "# Обучение Random Forest\n",
    "rf_model = RandomForestClassifier(n_estimators=26, max_depth=10, min_samples_split=50, min_samples_leaf=5, \n",
    "                                  max_features=1.0, max_leaf_nodes=55, random_state=42, \n",
    "                                  max_samples=280, criterion=\"entropy\", class_weight='balanced_subsample')\n",
    "rf_model.fit(X_train, y_train)\n",
    "\n",
    "# Прогноз на тестовых данных\n",
    "rf_pred = rf_model.predict(X_test)\n",
    "# Для более точного определения ROC-AUC лучше использовать вероятности принадлежности к классу\n",
    "rf_pred_auc = rf_model.predict_proba(X_test)[:, 1]\n",
    "\n",
    "# Расчет метрик для Random Forest\n",
    "rf_roc_auc = roc_auc_score(y_test, rf_pred_auc)\n",
    "rf_accuracy = accuracy_score(y_test, rf_pred)\n",
    "rf_precision = precision_score(y_test, rf_pred)\n",
    "rf_recall = recall_score(y_test, rf_pred)\n",
    "\n",
    "print(\"Random Forest метрики:\")\n",
    "print(f\"ROC AUC: {rf_roc_auc:.2f}\")\n",
    "print(f\"Accuracy: {rf_accuracy:.2f}\")\n",
    "print(f\"Precision: {rf_precision:.2f}\")\n",
    "print(f\"Recall: {rf_recall:.2f}\")\n",
    "\n",
    "# Обучение Gradient Boosting\n",
    "gb_model = GradientBoostingClassifier(n_estimators=200, random_state=42, learning_rate = 0.099, \n",
    "                                      min_samples_split=180, min_samples_leaf=71, max_features=9, \n",
    "                                      max_depth=2, loss = 'log_loss')\n",
    "gb_model.fit(X_train, y_train)\n",
    "\n",
    "# Прогноз на тестовых данных\n",
    "gb_pred = gb_model.predict(X_test)\n",
    "# Для более точного определения ROC-AUC лучше использовать вероятности принадлежности к классу\n",
    "gb_pred_auc = gb_model.predict_proba(X_test)[:, 1]\n",
    "\n",
    "# Расчет метрик для Gradient Boosting\n",
    "gb_roc_auc = roc_auc_score(y_test, gb_pred_auc)\n",
    "gb_accuracy = accuracy_score(y_test, gb_pred)\n",
    "gb_precision = precision_score(y_test, gb_pred)\n",
    "gb_recall = recall_score(y_test, gb_pred)\n",
    "\n",
    "print(\"\\nGradient Boosting метрики:\")\n",
    "print(f\"ROC AUC: {gb_roc_auc:.2f}\")\n",
    "print(f\"Accuracy: {gb_accuracy:.2f}\")\n",
    "print(f\"Precision: {gb_precision:.2f}\")\n",
    "print(f\"Recall: {gb_recall:.2f}\")"
   ]
  },
  {
   "cell_type": "markdown",
   "id": "1caf9744",
   "metadata": {},
   "source": [
    "Random Forest метрики:\n",
    "ROC AUC: 0.80\n",
    "Accuracy: 0.73\n",
    "Precision: 0.86\n",
    "Recall: 0.74\n",
    "\n",
    "Gradient Boosting метрики:\n",
    "ROC AUC: 0.80\n",
    "Accuracy: 0.79\n",
    "Precision: 0.81\n",
    "Recall: 0.89"
   ]
  },
  {
   "cell_type": "code",
   "execution_count": null,
   "id": "ae1e040c-ddd0-4952-9dcb-58c1226da40a",
   "metadata": {
    "tags": []
   },
   "outputs": [],
   "source": [
    "# Обучение MLP (Multi-Layer Perceptron) нейронной сети\n",
    "mlp_model = MLPClassifier(hidden_layer_sizes=(30,), \n",
    "    max_iter=600, \n",
    "    random_state=42, \n",
    "    activation='logistic',\n",
    "    n_iter_no_change=23)\n",
    "mlp_model.fit(X_train, y_train)\n",
    "\n",
    "# Прогноз на тестовых данных\n",
    "mlp_pred = mlp_model.predict(X_test)\n",
    "# Для более точного определения ROC-AUC лучше использовать вероятности принадлежности к классу\n",
    "mlp_pred_auc = mlp_model.predict_proba(X_test)[:, 1]\n",
    "\n",
    "# Расчет метрик для MLP нейронной сети\n",
    "mlp_roc_auc = roc_auc_score(y_test, mlp_pred_auc)\n",
    "mlp_accuracy = accuracy_score(y_test, mlp_pred)\n",
    "mlp_precision = precision_score(y_test, mlp_pred)\n",
    "mlp_recall = recall_score(y_test, mlp_pred)\n",
    "\n",
    "print(\"\\nMLP (Neural Network) метрики:\")\n",
    "print(f\"ROC AUC: {mlp_roc_auc:.2f}\")\n",
    "print(f\"Accuracy: {mlp_accuracy:.2f}\")\n",
    "print(f\"Precision: {mlp_precision:.2f}\")\n",
    "print(f\"Recall: {mlp_recall:.2f}\")"
   ]
  },
  {
   "cell_type": "markdown",
   "id": "a933b7ae",
   "metadata": {},
   "source": [
    "MLP (Neural Network) метрики:\n",
    "ROC AUC: 0.80\n",
    "Accuracy: 0.73\n",
    "Precision: 0.76\n",
    "Recall: 0.89"
   ]
  },
  {
   "cell_type": "markdown",
   "id": "d2d6eb00-77fd-40dc-a3c5-35c1fe0200c0",
   "metadata": {},
   "source": [
    "## Экспериментируйте\n",
    "Для получения лучшего качества придется поэкспериментировать. Подсказка: попробуйте оптимизировать гиперпараметры модели"
   ]
  }
 ],
 "metadata": {
  "kernelspec": {
   "display_name": "Python 3",
   "language": "python",
   "name": "python3"
  },
  "language_info": {
   "codemirror_mode": {
    "name": "ipython",
    "version": 3
   },
   "file_extension": ".py",
   "mimetype": "text/x-python",
   "name": "python",
   "nbconvert_exporter": "python",
   "pygments_lexer": "ipython3",
   "version": "3.12.0"
  }
 },
 "nbformat": 4,
 "nbformat_minor": 5
}
